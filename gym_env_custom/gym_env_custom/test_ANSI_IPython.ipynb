{
 "cells": [
  {
   "cell_type": "code",
   "execution_count": 38,
   "metadata": {},
   "outputs": [],
   "source": [
    "from gym_env_custom.envs.custom_mastermind_env import MasterMindEnv\n",
    "env=MasterMindEnv()"
   ]
  },
  {
   "cell_type": "code",
   "execution_count": 43,
   "metadata": {},
   "outputs": [],
   "source": [
    "from IPython.display import clear_output\n",
    "from time import sleep\n",
    "\n",
    "# Creating a function to visualize the behavior\n",
    "def print_frames(frames):\n",
    "    for i , frame in enumerate(frames):\n",
    "        clear_output(wait=True)\n",
    "        print(frame['frame'])\n",
    "        print(f\"Timestep: {i + 1}\")\n",
    "        \n",
    "        sleep(1)"
   ]
  },
  {
   "cell_type": "markdown",
   "metadata": {},
   "source": [
    "## Display frames"
   ]
  },
  {
   "cell_type": "code",
   "execution_count": 49,
   "metadata": {},
   "outputs": [
    {
     "name": "stdout",
     "output_type": "stream",
     "text": [
      "+----------------+\n",
      "|\u001b[48;2;199;0;57m \u001b[0m|\u001b[48;2;199;0;57m \u001b[0m|\u001b[48;2;236;238;163m \u001b[0m|\u001b[48;2;163;238;163m \u001b[0m||\u001b[48;2;236;238;163m \u001b[0m|\u001b[48;2;148;150;163m \u001b[0m|\u001b[48;2;148;150;163m \u001b[0m|\u001b[48;2;148;150;163m \u001b[0m|\n",
      "|\u001b[48;2;199;0;57m \u001b[0m|\u001b[48;2;199;0;57m \u001b[0m|\u001b[48;2;236;238;163m \u001b[0m|\u001b[48;2;236;238;163m \u001b[0m||\u001b[48;2;148;150;163m \u001b[0m|\u001b[48;2;236;238;163m \u001b[0m|\u001b[48;2;199;0;57m \u001b[0m|\u001b[48;2;238;163;220m \u001b[0m|\n",
      "|\u001b[48;2;199;0;57m \u001b[0m|\u001b[48;2;199;0;57m \u001b[0m|\u001b[48;2;236;238;163m \u001b[0m|\u001b[48;2;163;238;163m \u001b[0m||\u001b[48;2;238;163;220m \u001b[0m|\u001b[48;2;199;0;57m \u001b[0m|\u001b[48;2;163;172;238m \u001b[0m|\u001b[48;2;148;150;163m \u001b[0m|\n",
      "|\u001b[48;2;199;0;57m \u001b[0m|\u001b[48;2;199;0;57m \u001b[0m|\u001b[48;2;236;238;163m \u001b[0m|\u001b[48;2;163;238;163m \u001b[0m||\u001b[48;2;238;163;220m \u001b[0m|\u001b[48;2;163;238;163m \u001b[0m|\u001b[48;2;163;172;238m \u001b[0m|\u001b[48;2;163;238;163m \u001b[0m|\n",
      "|\u001b[48;2;199;0;57m \u001b[0m|\u001b[48;2;199;0;57m \u001b[0m|\u001b[48;2;199;0;57m \u001b[0m|\u001b[48;2;236;238;163m \u001b[0m||\u001b[48;2;199;0;57m \u001b[0m|\u001b[48;2;238;163;220m \u001b[0m|\u001b[48;2;238;163;220m \u001b[0m|\u001b[48;2;148;150;163m \u001b[0m|\n",
      "|\u001b[48;2;199;0;57m \u001b[0m|\u001b[48;2;199;0;57m \u001b[0m|\u001b[48;2;199;0;57m \u001b[0m|\u001b[48;2;199;0;57m \u001b[0m||\u001b[48;2;199;0;57m \u001b[0m|\u001b[48;2;199;0;57m \u001b[0m|\u001b[48;2;199;0;57m \u001b[0m|\u001b[48;2;238;163;220m \u001b[0m|\n",
      "|\u001b[48;2;199;0;57m \u001b[0m|\u001b[48;2;236;238;163m \u001b[0m|\u001b[48;2;163;238;163m \u001b[0m|\u001b[48;2;163;238;163m \u001b[0m||\u001b[48;2;148;150;163m \u001b[0m|\u001b[48;2;148;150;163m \u001b[0m|\u001b[48;2;163;238;163m \u001b[0m|\u001b[48;2;236;238;163m \u001b[0m|\n",
      "|\u001b[48;2;199;0;57m \u001b[0m|\u001b[48;2;199;0;57m \u001b[0m|\u001b[48;2;236;238;163m \u001b[0m|\u001b[48;2;163;238;163m \u001b[0m||\u001b[48;2;163;238;163m \u001b[0m|\u001b[48;2;199;0;57m \u001b[0m|\u001b[48;2;236;238;163m \u001b[0m|\u001b[48;2;163;238;163m \u001b[0m|\n",
      "|\u001b[48;2;199;0;57m \u001b[0m|\u001b[48;2;199;0;57m \u001b[0m|\u001b[48;2;236;238;163m \u001b[0m|\u001b[48;2;236;238;163m \u001b[0m||\u001b[48;2;163;172;238m \u001b[0m|\u001b[48;2;236;238;163m \u001b[0m|\u001b[48;2;199;0;57m \u001b[0m|\u001b[48;2;163;172;238m \u001b[0m|\n",
      "|\u001b[48;2;199;0;57m \u001b[0m|\u001b[48;2;199;0;57m \u001b[0m|\u001b[48;2;236;238;163m \u001b[0m|\u001b[48;2;163;238;163m \u001b[0m||\u001b[48;2;199;0;57m \u001b[0m|\u001b[48;2;163;172;238m \u001b[0m|\u001b[48;2;238;163;220m \u001b[0m|\u001b[48;2;236;238;163m \u001b[0m|\n",
      "+----------------+\n",
      " Target Code : \u001b[48;2;163;238;163m  \u001b[48;2;148;150;163m  \u001b[48;2;163;172;238m  \u001b[48;2;236;238;163m  \u001b[0m \n",
      " \n",
      "Last action : \u001b[48;2;199;0;57m  \u001b[48;2;163;172;238m  \u001b[48;2;238;163;220m  \u001b[48;2;236;238;163m  \u001b[0m\n",
      "Timestep: 10\n"
     ]
    }
   ],
   "source": [
    "\n",
    "env=MasterMindEnv()\n",
    "env.reset(seed=123)\n",
    "frames=[]\n",
    "for s in range(20):\n",
    "    action=env.action_space.sample()\n",
    "    state,reward,done,info=env.step(action)\n",
    "    frames.append({\n",
    "        'frame': env.render_ANSI(),\n",
    "    })\n",
    "    \n",
    "\n",
    "    if done:\n",
    "        break\n",
    "\n",
    "print_frames(frames=frames)"
   ]
  }
 ],
 "metadata": {
  "interpreter": {
   "hash": "45a851a8e049304e8d8fc9276f397ed5699faa42a654317800ed71714fc34a6c"
  },
  "kernelspec": {
   "display_name": "Python 3.7.9 64-bit",
   "language": "python",
   "name": "python3"
  },
  "language_info": {
   "codemirror_mode": {
    "name": "ipython",
    "version": 3
   },
   "file_extension": ".py",
   "mimetype": "text/x-python",
   "name": "python",
   "nbconvert_exporter": "python",
   "pygments_lexer": "ipython3",
   "version": "3.7.9"
  },
  "orig_nbformat": 4
 },
 "nbformat": 4,
 "nbformat_minor": 2
}
